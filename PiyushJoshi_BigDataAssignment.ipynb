{
  "nbformat": 4,
  "nbformat_minor": 0,
  "metadata": {
    "colab": {
      "name": "PiyushJoshiAssignment.ipynb",
      "provenance": [],
      "collapsed_sections": []
    },
    "kernelspec": {
      "name": "python3",
      "display_name": "Python 3"
    },
    "language_info": {
      "name": "python"
    }
  },
  "cells": [
    {
      "cell_type": "code",
      "execution_count": 1,
      "metadata": {
        "id": "EXOGRpRBdahb",
        "colab": {
          "base_uri": "https://localhost:8080/"
        },
        "outputId": "098ebfe5-9705-467f-99c2-93330047780a"
      },
      "outputs": [
        {
          "output_type": "stream",
          "name": "stdout",
          "text": [
            "Collecting pyspark\n",
            "  Downloading pyspark-3.2.1.tar.gz (281.4 MB)\n",
            "\u001b[K     |████████████████████████████████| 281.4 MB 35 kB/s \n",
            "\u001b[?25hCollecting py4j==0.10.9.3\n",
            "  Downloading py4j-0.10.9.3-py2.py3-none-any.whl (198 kB)\n",
            "\u001b[K     |████████████████████████████████| 198 kB 65.9 MB/s \n",
            "\u001b[?25hBuilding wheels for collected packages: pyspark\n",
            "  Building wheel for pyspark (setup.py) ... \u001b[?25l\u001b[?25hdone\n",
            "  Created wheel for pyspark: filename=pyspark-3.2.1-py2.py3-none-any.whl size=281853642 sha256=25433bf7f1a014cad8e040dea7101a9846a690ed36c54e31181de89224d038e5\n",
            "  Stored in directory: /root/.cache/pip/wheels/9f/f5/07/7cd8017084dce4e93e84e92efd1e1d5334db05f2e83bcef74f\n",
            "Successfully built pyspark\n",
            "Installing collected packages: py4j, pyspark\n",
            "Successfully installed py4j-0.10.9.3 pyspark-3.2.1\n"
          ]
        }
      ],
      "source": [
        "!pip install pyspark"
      ]
    },
    {
      "cell_type": "code",
      "source": [
        "# Loading Data"
      ],
      "metadata": {
        "id": "4n1Kj0A2wRA2"
      },
      "execution_count": 2,
      "outputs": []
    },
    {
      "cell_type": "code",
      "source": [
        "!wget https://raw.githubusercontent.com/techpiyushjoshi/BigData_Assignment/main/Steroid_Data.csv"
      ],
      "metadata": {
        "colab": {
          "base_uri": "https://localhost:8080/"
        },
        "id": "ImFKpqEsRusT",
        "outputId": "1b4c1717-46ff-499b-9093-76709811f863"
      },
      "execution_count": 3,
      "outputs": [
        {
          "output_type": "stream",
          "name": "stdout",
          "text": [
            "--2022-05-06 21:37:41--  https://raw.githubusercontent.com/techpiyushjoshi/BigData_Assignment/main/Steroid_Data.csv\n",
            "Resolving raw.githubusercontent.com (raw.githubusercontent.com)... 185.199.108.133, 185.199.109.133, 185.199.110.133, ...\n",
            "Connecting to raw.githubusercontent.com (raw.githubusercontent.com)|185.199.108.133|:443... connected.\n",
            "HTTP request sent, awaiting response... 200 OK\n",
            "Length: 8307 (8.1K) [text/plain]\n",
            "Saving to: ‘Steroid_Data.csv’\n",
            "\n",
            "\rSteroid_Data.csv      0%[                    ]       0  --.-KB/s               \rSteroid_Data.csv    100%[===================>]   8.11K  --.-KB/s    in 0s      \n",
            "\n",
            "2022-05-06 21:37:41 (37.1 MB/s) - ‘Steroid_Data.csv’ saved [8307/8307]\n",
            "\n"
          ]
        }
      ]
    },
    {
      "cell_type": "code",
      "source": [
        "from pyspark.sql import SparkSession"
      ],
      "metadata": {
        "id": "NLY5bkWDwxgf"
      },
      "execution_count": 4,
      "outputs": []
    },
    {
      "cell_type": "code",
      "source": [
        "my_assignment = SparkSession.builder.appName(\"steroid\").getOrCreate()"
      ],
      "metadata": {
        "id": "ihSy7WArw1BQ"
      },
      "execution_count": 5,
      "outputs": []
    },
    {
      "cell_type": "code",
      "source": [
        "data = my_assignment.read.csv(\"Steroid_Data.csv\",header = True, inferSchema = True)"
      ],
      "metadata": {
        "id": "NdG7uYUrxEh5"
      },
      "execution_count": 6,
      "outputs": []
    },
    {
      "cell_type": "code",
      "source": [
        "data.printSchema()"
      ],
      "metadata": {
        "colab": {
          "base_uri": "https://localhost:8080/"
        },
        "id": "iTblcLH8xibC",
        "outputId": "43a58c01-95e9-4bc9-8d15-7c914d970818"
      },
      "execution_count": 7,
      "outputs": [
        {
          "output_type": "stream",
          "name": "stdout",
          "text": [
            "root\n",
            " |-- Steroid_Type: string (nullable = true)\n",
            " |-- Gender: string (nullable = true)\n",
            " |-- Candidate_Age: integer (nullable = true)\n",
            " |-- Pulse_Level: string (nullable = true)\n",
            " |-- Body_Fat_Level: string (nullable = true)\n",
            " |-- Adrenaline_Level: double (nullable = true)\n",
            "\n"
          ]
        }
      ]
    },
    {
      "cell_type": "code",
      "source": [
        "data.describe().select(['Summary','Candidate_Age','Gender','Pulse_Level','Body_Fat_Level','Adrenaline_Level']).show()"
      ],
      "metadata": {
        "colab": {
          "base_uri": "https://localhost:8080/"
        },
        "id": "XhYsVhA0xo_m",
        "outputId": "ba29fc1b-fc77-45b6-8a84-f4fb9cf18d9e"
      },
      "execution_count": 8,
      "outputs": [
        {
          "output_type": "stream",
          "name": "stdout",
          "text": [
            "+-------+------------------+------+-----------+--------------+------------------+\n",
            "|Summary|     Candidate_Age|Gender|Pulse_Level|Body_Fat_Level|  Adrenaline_Level|\n",
            "+-------+------------------+------+-----------+--------------+------------------+\n",
            "|  count|               274|   274|        274|           274|               274|\n",
            "|   mean| 44.25912408759124|  null|       null|          null|16.309408759124082|\n",
            "| stddev|16.604051117594206|  null|       null|          null| 7.128744241613704|\n",
            "|    min|                15|Female|       HIGH|          HIGH|             6.269|\n",
            "|    max|                74|  Male|     NORMAL|        NORMAL|            38.247|\n",
            "+-------+------------------+------+-----------+--------------+------------------+\n",
            "\n"
          ]
        }
      ]
    },
    {
      "cell_type": "code",
      "source": [
        "# Data Preprocessing"
      ],
      "metadata": {
        "id": "eBi4m6_N2St9"
      },
      "execution_count": 9,
      "outputs": []
    },
    {
      "cell_type": "code",
      "source": [
        "# String Indexing and OneHotEncoding"
      ],
      "metadata": {
        "id": "s2rZ03uF2oDB"
      },
      "execution_count": 10,
      "outputs": []
    },
    {
      "cell_type": "code",
      "source": [
        "from pyspark.ml.feature import StringIndexer, OneHotEncoder"
      ],
      "metadata": {
        "id": "piGPPsyZ2tPg"
      },
      "execution_count": 11,
      "outputs": []
    },
    {
      "cell_type": "code",
      "source": [
        "Gender_Indexer = StringIndexer(inputCol='Gender',outputCol='Gender_Indexed')\n",
        "Gender_Encoder = OneHotEncoder(inputCol = 'Gender_Indexed',outputCol = 'Gender_Encoder')"
      ],
      "metadata": {
        "id": "Zxl6x9dy2zbq"
      },
      "execution_count": 12,
      "outputs": []
    },
    {
      "cell_type": "code",
      "source": [
        "Pulse_Level_Indexer = StringIndexer(inputCol='Pulse_Level',outputCol='Pulse_Level_Indexed')\n",
        "Pulse_Level_Encoder = OneHotEncoder(inputCol = 'Pulse_Level_Indexed',outputCol = 'Pulse_Level_Encoder')"
      ],
      "metadata": {
        "id": "BxVAzttZ3Wy6"
      },
      "execution_count": 13,
      "outputs": []
    },
    {
      "cell_type": "code",
      "source": [
        "Body_Fat_Level_Indexer = StringIndexer(inputCol='Body_Fat_Level',outputCol='Body_Fat_Level_Indexed')\n",
        "Body_Fat_Level_Encoder = OneHotEncoder(inputCol = 'Body_Fat_Level_Indexed',outputCol = 'Body_Fat_Level_Encoder')"
      ],
      "metadata": {
        "id": "LOvF3_JMK4z9"
      },
      "execution_count": 14,
      "outputs": []
    },
    {
      "cell_type": "code",
      "source": [
        "Steroid_Indexer = StringIndexer(inputCol='Steroid_Type',outputCol='Steroid_Indexed')\n",
        "Steroid_Encoder = OneHotEncoder(inputCol = 'Steroid_Indexed',outputCol = 'Steroid_Encoder')"
      ],
      "metadata": {
        "id": "IEBYTH6b4AkK"
      },
      "execution_count": 15,
      "outputs": []
    },
    {
      "cell_type": "code",
      "source": [
        "indexed = Steroid_Indexer.fit(data).transform(data)\n",
        "indexed.show()"
      ],
      "metadata": {
        "colab": {
          "base_uri": "https://localhost:8080/"
        },
        "id": "V9Quvpy-4obE",
        "outputId": "a0772ca3-b0f1-446b-ffc5-86106eae713c"
      },
      "execution_count": 16,
      "outputs": [
        {
          "output_type": "stream",
          "name": "stdout",
          "text": [
            "+------------+------+-------------+-----------+--------------+----------------+---------------+\n",
            "|Steroid_Type|Gender|Candidate_Age|Pulse_Level|Body_Fat_Level|Adrenaline_Level|Steroid_Indexed|\n",
            "+------------+------+-------------+-----------+--------------+----------------+---------------+\n",
            "|           E|Female|           23|       HIGH|          HIGH|          25.355|            0.0|\n",
            "|           C|  Male|           47|        LOW|          HIGH|          13.093|            4.0|\n",
            "|           C|  Male|           47|        LOW|          HIGH|          10.114|            4.0|\n",
            "|           D|Female|           28|     NORMAL|          HIGH|           7.798|            1.0|\n",
            "|           E|Female|           61|        LOW|          HIGH|          18.043|            0.0|\n",
            "|           D|Female|           22|     NORMAL|          HIGH|           8.607|            1.0|\n",
            "|           E|Female|           49|     NORMAL|          HIGH|          16.275|            0.0|\n",
            "|           C|  Male|           41|        LOW|          HIGH|          11.037|            4.0|\n",
            "|           E|  Male|           60|     NORMAL|          HIGH|          15.171|            0.0|\n",
            "|           E|  Male|           43|        LOW|        NORMAL|          19.368|            0.0|\n",
            "|           C|Female|           47|        LOW|          HIGH|          11.767|            4.0|\n",
            "|           E|Female|           34|       HIGH|        NORMAL|          19.199|            0.0|\n",
            "|           E|  Male|           43|        LOW|          HIGH|          15.376|            0.0|\n",
            "|           E|Female|           74|        LOW|          HIGH|          20.942|            0.0|\n",
            "|           D|Female|           50|     NORMAL|          HIGH|          12.703|            1.0|\n",
            "|           E|Female|           16|       HIGH|        NORMAL|          15.516|            0.0|\n",
            "|           D|  Male|           69|        LOW|        NORMAL|          11.455|            1.0|\n",
            "|           A|  Male|           43|       HIGH|          HIGH|          13.972|            2.0|\n",
            "|           C|  Male|           23|        LOW|          HIGH|           7.298|            4.0|\n",
            "|           E|Female|           32|       HIGH|        NORMAL|          25.974|            0.0|\n",
            "+------------+------+-------------+-----------+--------------+----------------+---------------+\n",
            "only showing top 20 rows\n",
            "\n"
          ]
        }
      ]
    },
    {
      "cell_type": "code",
      "source": [
        "final_data = indexed.drop('Steroid_Type')\n",
        "final_data.show()"
      ],
      "metadata": {
        "colab": {
          "base_uri": "https://localhost:8080/"
        },
        "id": "_IZbHZex4wVr",
        "outputId": "ad83eb44-a76d-45f8-ace9-54cb844ac2a0"
      },
      "execution_count": 17,
      "outputs": [
        {
          "output_type": "stream",
          "name": "stdout",
          "text": [
            "+------+-------------+-----------+--------------+----------------+---------------+\n",
            "|Gender|Candidate_Age|Pulse_Level|Body_Fat_Level|Adrenaline_Level|Steroid_Indexed|\n",
            "+------+-------------+-----------+--------------+----------------+---------------+\n",
            "|Female|           23|       HIGH|          HIGH|          25.355|            0.0|\n",
            "|  Male|           47|        LOW|          HIGH|          13.093|            4.0|\n",
            "|  Male|           47|        LOW|          HIGH|          10.114|            4.0|\n",
            "|Female|           28|     NORMAL|          HIGH|           7.798|            1.0|\n",
            "|Female|           61|        LOW|          HIGH|          18.043|            0.0|\n",
            "|Female|           22|     NORMAL|          HIGH|           8.607|            1.0|\n",
            "|Female|           49|     NORMAL|          HIGH|          16.275|            0.0|\n",
            "|  Male|           41|        LOW|          HIGH|          11.037|            4.0|\n",
            "|  Male|           60|     NORMAL|          HIGH|          15.171|            0.0|\n",
            "|  Male|           43|        LOW|        NORMAL|          19.368|            0.0|\n",
            "|Female|           47|        LOW|          HIGH|          11.767|            4.0|\n",
            "|Female|           34|       HIGH|        NORMAL|          19.199|            0.0|\n",
            "|  Male|           43|        LOW|          HIGH|          15.376|            0.0|\n",
            "|Female|           74|        LOW|          HIGH|          20.942|            0.0|\n",
            "|Female|           50|     NORMAL|          HIGH|          12.703|            1.0|\n",
            "|Female|           16|       HIGH|        NORMAL|          15.516|            0.0|\n",
            "|  Male|           69|        LOW|        NORMAL|          11.455|            1.0|\n",
            "|  Male|           43|       HIGH|          HIGH|          13.972|            2.0|\n",
            "|  Male|           23|        LOW|          HIGH|           7.298|            4.0|\n",
            "|Female|           32|       HIGH|        NORMAL|          25.974|            0.0|\n",
            "+------+-------------+-----------+--------------+----------------+---------------+\n",
            "only showing top 20 rows\n",
            "\n"
          ]
        }
      ]
    },
    {
      "cell_type": "code",
      "source": [
        "final_data.printSchema()"
      ],
      "metadata": {
        "colab": {
          "base_uri": "https://localhost:8080/"
        },
        "id": "TghLHG1p5A3k",
        "outputId": "fe4cccf2-93fa-43d7-d79b-5360972e6ab1"
      },
      "execution_count": 18,
      "outputs": [
        {
          "output_type": "stream",
          "name": "stdout",
          "text": [
            "root\n",
            " |-- Gender: string (nullable = true)\n",
            " |-- Candidate_Age: integer (nullable = true)\n",
            " |-- Pulse_Level: string (nullable = true)\n",
            " |-- Body_Fat_Level: string (nullable = true)\n",
            " |-- Adrenaline_Level: double (nullable = true)\n",
            " |-- Steroid_Indexed: double (nullable = false)\n",
            "\n"
          ]
        }
      ]
    },
    {
      "cell_type": "code",
      "source": [
        "# Now combining all variables except target variable into a single feature using Vector Assembler"
      ],
      "metadata": {
        "id": "qib4bSKd5Gbg"
      },
      "execution_count": 21,
      "outputs": []
    },
    {
      "cell_type": "code",
      "source": [
        "from pyspark.ml.feature import VectorAssembler"
      ],
      "metadata": {
        "id": "_ln68dIG55a2"
      },
      "execution_count": 22,
      "outputs": []
    },
    {
      "cell_type": "code",
      "source": [
        "Assembler = VectorAssembler(inputCols = ['Gender_Encoder','Candidate_Age','Pulse_Level_Encoder','Body_Fat_Level_Encoder','Adrenaline_Level'],outputCol = 'allfeatures')"
      ],
      "metadata": {
        "id": "CLPmdKQ85PSt"
      },
      "execution_count": 23,
      "outputs": []
    },
    {
      "cell_type": "code",
      "source": [
        "# Standardizing values by Standard Scaling"
      ],
      "metadata": {
        "id": "-9Yw7OI-5zJq"
      },
      "execution_count": 24,
      "outputs": []
    },
    {
      "cell_type": "code",
      "source": [
        "from pyspark.ml.feature import StandardScaler"
      ],
      "metadata": {
        "id": "TqL_Ld3t6Ecj"
      },
      "execution_count": 25,
      "outputs": []
    },
    {
      "cell_type": "code",
      "source": [
        "sc = StandardScaler(inputCol = 'allfeatures',outputCol = 'Standard_Features')"
      ],
      "metadata": {
        "id": "_SQO77QJ6KUG"
      },
      "execution_count": 26,
      "outputs": []
    },
    {
      "cell_type": "code",
      "source": [
        "# Building the Model"
      ],
      "metadata": {
        "id": "w7MOQB5r6YQK"
      },
      "execution_count": 27,
      "outputs": []
    },
    {
      "cell_type": "code",
      "source": [
        "# Creating the Pipeline"
      ],
      "metadata": {
        "id": "IkdPL1M26b-K"
      },
      "execution_count": 29,
      "outputs": []
    },
    {
      "cell_type": "code",
      "source": [
        "from pyspark.ml import Pipeline\n",
        "from pyspark.ml.classification import LogisticRegression"
      ],
      "metadata": {
        "id": "Pu5UbxJm6fL5"
      },
      "execution_count": 30,
      "outputs": []
    },
    {
      "cell_type": "code",
      "source": [
        "lr = LogisticRegression(featuresCol = 'Standard_Features',labelCol ='Steroid_Indexed')"
      ],
      "metadata": {
        "id": "3oqZkb0s6nPr"
      },
      "execution_count": 31,
      "outputs": []
    },
    {
      "cell_type": "code",
      "source": [
        "my_pipeline = Pipeline(stages = [Gender_Indexer,Gender_Encoder,Pulse_Level_Indexer,Pulse_Level_Encoder,Body_Fat_Level_Indexer,Body_Fat_Level_Encoder,Assembler,sc,lr])"
      ],
      "metadata": {
        "id": "qARwmd7i68Hz"
      },
      "execution_count": 32,
      "outputs": []
    },
    {
      "cell_type": "code",
      "source": [
        "# Splitting the dataset into training and test"
      ],
      "metadata": {
        "id": "PztlKYiG7Uqw"
      },
      "execution_count": 33,
      "outputs": []
    },
    {
      "cell_type": "code",
      "source": [
        "train_dataset, test_dataset = final_data.randomSplit([0.7,0.3])"
      ],
      "metadata": {
        "id": "hA0dgMuZ7ayO"
      },
      "execution_count": 34,
      "outputs": []
    },
    {
      "cell_type": "code",
      "source": [
        "lr_model = my_pipeline.fit(train_dataset)"
      ],
      "metadata": {
        "id": "o2B6KOh-7p7s"
      },
      "execution_count": 35,
      "outputs": []
    },
    {
      "cell_type": "code",
      "source": [
        "lr_result = lr_model.transform(test_dataset)"
      ],
      "metadata": {
        "id": "Wr9_Q1iS7vf5"
      },
      "execution_count": 36,
      "outputs": []
    },
    {
      "cell_type": "code",
      "source": [
        "# Evaluating the Model"
      ],
      "metadata": {
        "id": "etWx7Vr18tKs"
      },
      "execution_count": 37,
      "outputs": []
    },
    {
      "cell_type": "code",
      "source": [
        "from pyspark.ml.evaluation import MulticlassClassificationEvaluator"
      ],
      "metadata": {
        "id": "LJsixOpq8zKU"
      },
      "execution_count": 38,
      "outputs": []
    },
    {
      "cell_type": "code",
      "source": [
        "evaluation = MulticlassClassificationEvaluator(predictionCol = 'prediction', labelCol = 'Steroid_Indexed')"
      ],
      "metadata": {
        "id": "JUyqakmp84b0"
      },
      "execution_count": 39,
      "outputs": []
    },
    {
      "cell_type": "code",
      "source": [
        "predictionAndTarget_lr = lr_model.transform(final_data).select('Steroid_Indexed', 'prediction')"
      ],
      "metadata": {
        "id": "bNxTR6FM9L3H"
      },
      "execution_count": 40,
      "outputs": []
    },
    {
      "cell_type": "code",
      "source": [
        "print(\"Accuracy score using LogisticRegression: \"+str(evaluation.evaluate(predictionAndTarget_lr,{evaluation.metricName: \"accuracy\"})))"
      ],
      "metadata": {
        "colab": {
          "base_uri": "https://localhost:8080/"
        },
        "id": "LoDY0IVc9gdJ",
        "outputId": "b7ee1bc3-15c6-4a2a-dcad-f2e9d0e352b7"
      },
      "execution_count": 41,
      "outputs": [
        {
          "output_type": "stream",
          "name": "stdout",
          "text": [
            "Accuracy score using LogisticRegression: 0.9963503649635036\n"
          ]
        }
      ]
    },
    {
      "cell_type": "code",
      "source": [
        "print(\"Accuracy in Percentage : \"+ str(evaluation.evaluate(predictionAndTarget_lr,{evaluation.metricName: \"accuracy\"})*100) + str(' %'))"
      ],
      "metadata": {
        "colab": {
          "base_uri": "https://localhost:8080/"
        },
        "id": "paGqY2WmN05D",
        "outputId": "93504e12-e67b-4b82-de74-968c0ae26530"
      },
      "execution_count": 42,
      "outputs": [
        {
          "output_type": "stream",
          "name": "stdout",
          "text": [
            "Accuracy in Percentage : 99.63503649635037 %\n"
          ]
        }
      ]
    },
    {
      "cell_type": "code",
      "source": [
        "# The Accuracy of our model is about 99.6 % which is really good"
      ],
      "metadata": {
        "id": "JCftyX0hQAIg"
      },
      "execution_count": null,
      "outputs": []
    }
  ]
}